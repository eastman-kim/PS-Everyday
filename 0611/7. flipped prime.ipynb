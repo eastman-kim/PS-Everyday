{
 "cells": [
  {
   "cell_type": "code",
   "execution_count": 68,
   "metadata": {},
   "outputs": [],
   "source": [
    "#My code\n",
    "def reverse(x): #elem 서로 바꿔주기? \n",
    "    new = list(str(x))\n",
    "    new = ('').join(new[::-1])  # 순서 바꿔서 다시 붙여주기\n",
    "    new = int(new)              # 정수로 변환 후 isPrime 실행 준비\n",
    "    return new\n",
    "\n",
    "def isPrime(x):\n",
    "    if x<2: return False\n",
    "    for i in range(2,x):\n",
    "        if x%i==0: return False\n",
    "    return True                 # 소수냐 아니냐 알려줌."
   ]
  },
  {
   "cell_type": "code",
   "execution_count": 59,
   "metadata": {},
   "outputs": [],
   "source": [
    "n = int(input())\n",
    "l = list(map(int, input().split()))\n",
    "\n",
    "primes = []\n",
    "for i in range(len(l)):\n",
    "    if isPrime(reverse(l[i])): \n",
    "        primes.append(reverse(l[i]))        \n",
    "for item in primes: print(item, end=' ')"
   ]
  },
  {
   "cell_type": "code",
   "execution_count": 3,
   "metadata": {},
   "outputs": [],
   "source": [
    "# Solution\n",
    "# 자릿수에 관련된 문제는 나머지를 이용하면 좋다!\n",
    "\n",
    "def reverse(x):\n",
    "    res = 0\n",
    "    while x>0:\n",
    "        t = x%10\n",
    "        x = x//10\n",
    "        res = res*10+t\n",
    "    return res\n",
    "\n",
    "def isPrime(x):\n",
    "    if x<2: return False\n",
    "    for i in range(2,x//2+1):   # 약수는 그 절반'까지'만 존재하게 됨. 따라서 절반까지만 돌면 됨\n",
    "        if x%i==0: return False\n",
    "    else: return True"
   ]
  },
  {
   "cell_type": "code",
   "execution_count": 5,
   "metadata": {},
   "outputs": [
    {
     "name": "stdout",
     "output_type": "stream",
     "text": [
      "5 \n",
      "32 55 62 3700 250\n",
      "23 73 "
     ]
    }
   ],
   "source": [
    "n = int(input())\n",
    "a = list(map(int, input().split()))\n",
    "\n",
    "for x in a:\n",
    "    tmp = reverse(x)\n",
    "    if isPrime(tmp):\n",
    "        print(tmp, end=' ')"
   ]
  },
  {
   "cell_type": "code",
   "execution_count": null,
   "metadata": {},
   "outputs": [],
   "source": [
    "# 고쳐야 할 점\n",
    "n = int(input())\n",
    "l = list(map(int, input().split()))       \n",
    "\n",
    "primes = []                               # 불필요한 리스트 줄이기 -> 리스트 전체를 받아오면 피곤해짐. 하나씩 가져오자\n",
    "for i in range(len(l)): \n",
    "    if isPrime(reverse(l[i])):            #가독성 높이기\n",
    "        primes.append(reverse(l[i]))        \n",
    "for item in primes: print(item, end=' ')"
   ]
  },
  {
   "cell_type": "code",
   "execution_count": null,
   "metadata": {},
   "outputs": [],
   "source": [
    "# 고친 후\n",
    "for item in l:\n",
    "    tmp = reverse(item)\n",
    "    if isPrime(tmp):\n",
    "        print(item, end=' ')"
   ]
  }
 ],
 "metadata": {
  "kernelspec": {
   "display_name": "Python 3",
   "language": "python",
   "name": "python3"
  },
  "language_info": {
   "codemirror_mode": {
    "name": "ipython",
    "version": 3
   },
   "file_extension": ".py",
   "mimetype": "text/x-python",
   "name": "python",
   "nbconvert_exporter": "python",
   "pygments_lexer": "ipython3",
   "version": "3.7.3"
  }
 },
 "nbformat": 4,
 "nbformat_minor": 2
}
