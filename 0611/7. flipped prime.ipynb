{
 "cells": [
  {
   "cell_type": "code",
   "execution_count": 68,
   "metadata": {},
   "outputs": [],
   "source": [
    "def reverse(x): #elem 서로 바꿔주기? \n",
    "    new = list(str(x))\n",
    "    new = ('').join(new[::-1])  # 순서 바꿔서 다시 붙여주기\n",
    "    new = int(new)              # 정수로 변환 후 isPrime 실행 준비\n",
    "    return new"
   ]
  },
  {
   "cell_type": "code",
   "execution_count": 59,
   "metadata": {},
   "outputs": [],
   "source": [
    "def isPrime(x):\n",
    "    if x<2: return False\n",
    "    for i in range(2,x):\n",
    "        if x%i==0: return False\n",
    "    return True                 # 소수냐 아니냐 알려줌."
   ]
  },
  {
   "cell_type": "code",
   "execution_count": 78,
   "metadata": {},
   "outputs": [
    {
     "name": "stdout",
     "output_type": "stream",
     "text": [
      "5\n",
      "32 55 62 3700 250\n",
      "23 73 "
     ]
    }
   ],
   "source": [
    "n = int(input())\n",
    "l = list(map(int, input().split()))\n",
    "\n",
    "primes = []\n",
    "for i in range(len(l)):\n",
    "    if isPrime(reverse(l[i])): \n",
    "        primes.append(reverse(l[i]))        \n",
    "for item in primes: print(item, end=' ')"
   ]
  },
  {
   "cell_type": "code",
   "execution_count": null,
   "metadata": {},
   "outputs": [],
   "source": []
  },
  {
   "cell_type": "code",
   "execution_count": null,
   "metadata": {},
   "outputs": [],
   "source": []
  }
 ],
 "metadata": {
  "kernelspec": {
   "display_name": "Python 3",
   "language": "python",
   "name": "python3"
  },
  "language_info": {
   "codemirror_mode": {
    "name": "ipython",
    "version": 3
   },
   "file_extension": ".py",
   "mimetype": "text/x-python",
   "name": "python",
   "nbconvert_exporter": "python",
   "pygments_lexer": "ipython3",
   "version": "3.7.3"
  }
 },
 "nbformat": 4,
 "nbformat_minor": 2
}
