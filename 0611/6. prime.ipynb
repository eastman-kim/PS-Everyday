{
 "cells": [
  {
   "cell_type": "code",
   "execution_count": 1,
   "metadata": {},
   "outputs": [
    {
     "name": "stdout",
     "output_type": "stream",
     "text": [
      "20\n"
     ]
    }
   ],
   "source": [
    "# 소수의 정의? 1과 그 자신으로만 나누어지는 수\n",
    "# 무식한 소수\n",
    "n = int(input())\n",
    "\n",
    "def isPrime(n):\n",
    "    if n<2: return False\n",
    "    for i in range(2,n):\n",
    "        if n%i==0: return False\n",
    "    return True\n",
    "\n",
    "for i in range(n+1):\n",
    "    if isPrime(i): print(i)"
   ]
  },
  {
   "cell_type": "markdown",
   "metadata": {},
   "source": [
    "- 위 방법은 연산 계속 해줘야 돼서 시간 오래 걸려\n",
    "- 에라토스테네스 체 쓰란다\n",
    "- 에라토스테네스란? 에라토스테네스의 체 : 범위에서 합성수를 지우는 방식으로 소수를 찾는 방법. 1. 1은 제거 2. 지워지지 않은 수 중 제일 작은 2를 소수로 채택하고, 나머지 2의 배수를 모두 지운다. 3. 지워지지 않은 수 중 제일 작은 3을 소수로 채택하고, 나머지 3의 배수를 모두 지운다. 4. 지워지지 않은 수 중 제일 작은 5를 소수로 채택하고, 나머지 5의 배수를 모두 지운다. 5. (반복)"
   ]
  },
  {
   "cell_type": "code",
   "execution_count": 2,
   "metadata": {},
   "outputs": [
    {
     "name": "stdout",
     "output_type": "stream",
     "text": [
      "20\n",
      "[2, 3, 5, 7, 11, 13, 17, 19]\n",
      "8\n"
     ]
    }
   ],
   "source": [
    "n = int(input())\n",
    "a = [False, False] + [True]*(n-1) #0,1 False, 2부터 n까지 True \n",
    "primes = []\n",
    "for i in range(2,n+1):\n",
    "    if a[i]: \n",
    "        primes.append(i)\n",
    "        for j in range(i*2,n+1,i):\n",
    "            a[j]=False\n",
    "print(primes)      #소수\n",
    "print(len(primes)) #소수 개수"
   ]
  },
  {
   "cell_type": "code",
   "execution_count": 4,
   "metadata": {},
   "outputs": [
    {
     "name": "stdout",
     "output_type": "stream",
     "text": [
      "25\n",
      "9\n"
     ]
    }
   ],
   "source": [
    "# Solution (use cnt only)\n",
    "n = int(input())\n",
    "a = [0]*(n+1) #0,1 False, 2부터 n까지 True \n",
    "\n",
    "cnt = 0\n",
    "for i in range(2, n+1):\n",
    "    if a[i]==0:\n",
    "        cnt += 1\n",
    "        for j in range(i,n+1,i):\n",
    "            a[j]=1\n",
    "print(cnt)"
   ]
  },
  {
   "cell_type": "code",
   "execution_count": null,
   "metadata": {},
   "outputs": [],
   "source": []
  }
 ],
 "metadata": {
  "kernelspec": {
   "display_name": "Python 3",
   "language": "python",
   "name": "python3"
  },
  "language_info": {
   "codemirror_mode": {
    "name": "ipython",
    "version": 3
   },
   "file_extension": ".py",
   "mimetype": "text/x-python",
   "name": "python",
   "nbconvert_exporter": "python",
   "pygments_lexer": "ipython3",
   "version": "3.7.3"
  }
 },
 "nbformat": 4,
 "nbformat_minor": 2
}
