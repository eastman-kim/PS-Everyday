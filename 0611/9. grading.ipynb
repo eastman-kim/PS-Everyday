{
 "cells": [
  {
   "cell_type": "code",
   "execution_count": 48,
   "metadata": {},
   "outputs": [
    {
     "name": "stdout",
     "output_type": "stream",
     "text": [
      "10\n",
      "1 0 1 1 1 0 0 1 1 0\n"
     ]
    }
   ],
   "source": [
    "# first trial\n",
    "n = int(input())\n",
    "g = list(map(int, input().split()))\n",
    "p = [0]*(n)"
   ]
  },
  {
   "cell_type": "code",
   "execution_count": 49,
   "metadata": {},
   "outputs": [],
   "source": [
    "for i in range(n):\n",
    "    if g[i] == 1:                  # g의 원소가 1일 때,\n",
    "        if p[i-1]: p[i] = p[i-1]   #    p의 직전 값이 0이 아닐 때, p의 i번째 원소는 p의 i-1번째 원소 \n",
    "        p[i] += 1                  # p의 i번째 원소에 1을 더해준다\n",
    "    else: p[i] == 0                # g의 원소가 1이 아니라면, p의 원소도 0"
   ]
  },
  {
   "cell_type": "code",
   "execution_count": 50,
   "metadata": {},
   "outputs": [
    {
     "name": "stdout",
     "output_type": "stream",
     "text": [
      "[1, 0, 1, 1, 1, 0, 0, 1, 1, 0]\n",
      "[1, 0, 1, 2, 3, 0, 0, 1, 2, 0]\n"
     ]
    }
   ],
   "source": [
    "print(g)\n",
    "print(p)"
   ]
  },
  {
   "cell_type": "code",
   "execution_count": 51,
   "metadata": {},
   "outputs": [
    {
     "name": "stdout",
     "output_type": "stream",
     "text": [
      "10\n"
     ]
    }
   ],
   "source": [
    "print(sum(p))                      # 시간 줄이기!"
   ]
  }
 ],
 "metadata": {
  "kernelspec": {
   "display_name": "Python 3",
   "language": "python",
   "name": "python3"
  },
  "language_info": {
   "codemirror_mode": {
    "name": "ipython",
    "version": 3
   },
   "file_extension": ".py",
   "mimetype": "text/x-python",
   "name": "python",
   "nbconvert_exporter": "python",
   "pygments_lexer": "ipython3",
   "version": "3.7.3"
  }
 },
 "nbformat": 4,
 "nbformat_minor": 2
}
