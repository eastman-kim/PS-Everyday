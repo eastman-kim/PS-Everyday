{
 "cells": [
  {
   "cell_type": "code",
   "execution_count": 57,
   "metadata": {},
   "outputs": [
    {
     "name": "stdout",
     "output_type": "stream",
     "text": [
      "5\n",
      "1 2 3 4 5\n",
      "3 3\n"
     ]
    }
   ],
   "source": [
    "#my code\n",
    "n = int(input())\n",
    "l = list(map(int,input().split()))\n",
    "\n",
    "avg = int(round(sum(l)/len(l),0))  # avg 구하기\n",
    "a = []\n",
    "idx = []\n",
    "for i in range(len(l)):\n",
    "    a.append(abs(l[i]-avg))        # elem - avg 리스트 만들어서\n",
    "for i in range(len(a)):\n",
    "    if a[i]==min(a):               # 가장 작은 차를 가지는 인덱스를 리스트에 저장\n",
    "        idx.append(i+1)\n",
    "        \n",
    "if len(idx) == 1:                  # 최솟값 가지는 인덱스가 하나라면, 하나를 출력\n",
    "    print(avg,idx[0])\n",
    "elif len(idx) == 2:                # 최솟값 가지는 인덱스가 두 개라면, 성적이 높은 인덱스를 출력\n",
    "    if idx[0] < idx[1]:\n",
    "        print(avg,idx[1])\n",
    "    else: print(avg,idx[0])\n",
    "elif len(idx)>2:                    # 최솟값 가지는 인덱스가 두 개보다 많다면, 번호가 빠른 인덱스를 출력\n",
    "    print(avg, sorted(idx)[0])     "
   ]
  },
  {
   "cell_type": "code",
   "execution_count": 58,
   "metadata": {},
   "outputs": [
    {
     "name": "stdout",
     "output_type": "stream",
     "text": [
      "10\n",
      "65 73 66 87 92 67 55 79 75 80\n"
     ]
    }
   ],
   "source": [
    "#solution\n",
    "n = int(input())\n",
    "l = list(map(int, input().split()))\n",
    "\n",
    "avg = int(round(sum(l)/n,0))   \n",
    "min_val = 2147000000\n",
    "\n",
    "for idx, x in enumerate(l):\n",
    "    tmp = abs(x-avg)\n",
    "    if tmp < min_val:\n",
    "        min_val = tmp\n",
    "        score = x\n",
    "        index = idx+1\n",
    "    elif tmp == min_val:\n",
    "        if score < x:       #핵심! 점수가 더 큰 학생을 출력 + 2개 이상 일 때도 작동\n",
    "            score = x\n",
    "            index = idx +1\n",
    "print(avg, index)"
   ]
  },
  {
   "cell_type": "code",
   "execution_count": 78,
   "metadata": {},
   "outputs": [
    {
     "name": "stdout",
     "output_type": "stream",
     "text": [
      "ㅇ\n"
     ]
    },
    {
     "ename": "ValueError",
     "evalue": "invalid literal for int() with base 10: 'ㅇ'",
     "output_type": "error",
     "traceback": [
      "\u001b[1;31m---------------------------------------------------------------------------\u001b[0m",
      "\u001b[1;31mValueError\u001b[0m                                Traceback (most recent call last)",
      "\u001b[1;32m<ipython-input-78-1dd5fea016fe>\u001b[0m in \u001b[0;36m<module>\u001b[1;34m\u001b[0m\n\u001b[0;32m      1\u001b[0m \u001b[1;31m#solution 오류수정\u001b[0m\u001b[1;33m\u001b[0m\u001b[1;33m\u001b[0m\u001b[1;33m\u001b[0m\u001b[0m\n\u001b[1;32m----> 2\u001b[1;33m \u001b[0mn\u001b[0m \u001b[1;33m=\u001b[0m \u001b[0mint\u001b[0m\u001b[1;33m(\u001b[0m\u001b[0minput\u001b[0m\u001b[1;33m(\u001b[0m\u001b[1;33m)\u001b[0m\u001b[1;33m)\u001b[0m\u001b[1;33m\u001b[0m\u001b[1;33m\u001b[0m\u001b[0m\n\u001b[0m\u001b[0;32m      3\u001b[0m \u001b[0ml\u001b[0m \u001b[1;33m=\u001b[0m \u001b[0mlist\u001b[0m\u001b[1;33m(\u001b[0m\u001b[0mmap\u001b[0m\u001b[1;33m(\u001b[0m\u001b[0mint\u001b[0m\u001b[1;33m,\u001b[0m \u001b[0minput\u001b[0m\u001b[1;33m(\u001b[0m\u001b[1;33m)\u001b[0m\u001b[1;33m.\u001b[0m\u001b[0msplit\u001b[0m\u001b[1;33m(\u001b[0m\u001b[1;33m)\u001b[0m\u001b[1;33m)\u001b[0m\u001b[1;33m)\u001b[0m\u001b[1;33m\u001b[0m\u001b[1;33m\u001b[0m\u001b[0m\n\u001b[0;32m      4\u001b[0m \u001b[1;33m\u001b[0m\u001b[0m\n\u001b[0;32m      5\u001b[0m \u001b[0mavg\u001b[0m \u001b[1;33m=\u001b[0m \u001b[0mint\u001b[0m\u001b[1;33m(\u001b[0m\u001b[0msum\u001b[0m\u001b[1;33m(\u001b[0m\u001b[0ml\u001b[0m\u001b[1;33m)\u001b[0m\u001b[1;33m/\u001b[0m\u001b[0mn\u001b[0m \u001b[1;33m+\u001b[0m \u001b[1;36m0.5\u001b[0m\u001b[1;33m)\u001b[0m   \u001b[1;31m# Python에서 round는 사사오입. Round-half-even.\u001b[0m\u001b[1;33m\u001b[0m\u001b[1;33m\u001b[0m\u001b[0m\n",
      "\u001b[1;31mValueError\u001b[0m: invalid literal for int() with base 10: 'ㅇ'"
     ]
    }
   ],
   "source": [
    "#solution 오류수정\n",
    "n = int(input())\n",
    "l = list(map(int, input().split()))\n",
    "\n",
    "avg = int(sum(l)/n + 0.5)   # Python에서 round는 사사오입. Round-half-even.\n",
    "min_val = 2147000000\n",
    "\n",
    "for idx, x in enumerate(l): #\n",
    "    tmp = abs(x-avg)\n",
    "    if tmp < min_val:\n",
    "        min_val = tmp\n",
    "        score = x\n",
    "        index = idx+1\n",
    "    elif tmp == min_val:\n",
    "        if score < x:       #핵심! 점수가 더 큰 학생을 출력 + 2개 이상 일 때도 작동\n",
    "            score = x\n",
    "            index = idx +1\n",
    "print(avg, index)"
   ]
  },
  {
   "cell_type": "code",
   "execution_count": null,
   "metadata": {},
   "outputs": [],
   "source": []
  }
 ],
 "metadata": {
  "kernelspec": {
   "display_name": "Python 3",
   "language": "python",
   "name": "python3"
  },
  "language_info": {
   "codemirror_mode": {
    "name": "ipython",
    "version": 3
   },
   "file_extension": ".py",
   "mimetype": "text/x-python",
   "name": "python",
   "nbconvert_exporter": "python",
   "pygments_lexer": "ipython3",
   "version": "3.7.3"
  }
 },
 "nbformat": 4,
 "nbformat_minor": 2
}
