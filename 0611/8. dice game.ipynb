{
 "cells": [
  {
   "cell_type": "code",
   "execution_count": 26,
   "metadata": {},
   "outputs": [],
   "source": [
    "#first try - make a table list\n",
    "\n",
    "n = int(input())\n",
    "l = [list(map(int,input().split())) for _ in range(n)]\n",
    "\n",
    "tbl = [0]*10\n",
    "max = 0\n",
    "for item in l:\n",
    "    for i in range(len(item)):\n",
    "        tbl[item[i]] += 1\n",
    "        \n",
    "    max = max(tbl) \n",
    "    num = tbl                          # how to record the number's index? Why not dict?\n",
    "    if max == 1: print(num*100)\n",
    "    elif max == 2: print(1000+num*100)        \n",
    "    elif max == 3: print(10000+num*1000)    \n",
    "    "
   ]
  },
  {
   "cell_type": "code",
   "execution_count": null,
   "metadata": {},
   "outputs": [],
   "source": [
    "#second try - make a dictionary\n",
    "d = {1:0,2:0,3:0,4:0,5:0,6:0}\n",
    "for num in l[0]: d[num] +=1\n",
    "d.get(max(d.values()))                 # get max index..failed"
   ]
  },
  {
   "cell_type": "code",
   "execution_count": 96,
   "metadata": {},
   "outputs": [
    {
     "name": "stdout",
     "output_type": "stream",
     "text": [
      "3\n",
      "3 3 6\n",
      "2 2 2\n",
      "6 2 5\n",
      "12000\n"
     ]
    }
   ],
   "source": [
    "#solution - I did thought of this way... I thought I needed fancy lines for this\n",
    "max = 0\n",
    "n = int(input())\n",
    "for i in range(n):\n",
    "    tmp = input().split()  # do not have to get two-array list\n",
    "    tmp.sort()             # Ascending sort\n",
    "    a,b,c = map(int, tmp)  # bc we only have three dice\n",
    "    \n",
    "    if a == b and b == c: money = 10000+a*1000 # when three dice have same three values\n",
    "    elif a == b or a == c: money = 1000+a*100  # when three dice have same two values \n",
    "    elif b == c: money = 1000+b*100            # when three dice have same two values\n",
    "    else: money = c*100                        # when three dice have no same values. requires c bc it is the largest number  \n",
    "    \n",
    "    if money > max:\n",
    "        max = money\n",
    "print(max)"
   ]
  },
  {
   "cell_type": "code",
   "execution_count": null,
   "metadata": {},
   "outputs": [],
   "source": []
  }
 ],
 "metadata": {
  "kernelspec": {
   "display_name": "Python 3",
   "language": "python",
   "name": "python3"
  },
  "language_info": {
   "codemirror_mode": {
    "name": "ipython",
    "version": 3
   },
   "file_extension": ".py",
   "mimetype": "text/x-python",
   "name": "python",
   "nbconvert_exporter": "python",
   "pygments_lexer": "ipython3",
   "version": "3.7.3"
  }
 },
 "nbformat": 4,
 "nbformat_minor": 2
}
