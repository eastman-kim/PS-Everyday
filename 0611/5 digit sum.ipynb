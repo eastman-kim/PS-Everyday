{
 "cells": [
  {
   "cell_type": "code",
   "execution_count": 41,
   "metadata": {},
   "outputs": [
    {
     "name": "stdout",
     "output_type": "stream",
     "text": [
      "15\n",
      "770 93 883 659 641 446 354 227 338 178 510 357 560 362 884 \n",
      "659\n"
     ]
    }
   ],
   "source": [
    "#first trial\n",
    "\n",
    "n = int(input())\n",
    "l = list(input().split())\n",
    "max = 0\n",
    "for i in range(n):\n",
    "    s = list(l[i])\n",
    "    itgr = list(map(int,s))\n",
    "    tmp = sum(itgr)\n",
    "    if tmp > max:\n",
    "        max = tmp\n",
    "        idx = i\n",
    "print(l[idx])"
   ]
  },
  {
   "cell_type": "code",
   "execution_count": 43,
   "metadata": {},
   "outputs": [
    {
     "name": "stdout",
     "output_type": "stream",
     "text": [
      "3\n",
      "125 15232 97\n"
     ]
    }
   ],
   "source": [
    "# second_trial(func)\n",
    "\n",
    "n = int(input())\n",
    "l = list(input().split())\n",
    "\n",
    "def digit_sum(lst):\n",
    "    max = 0\n",
    "    size = len(lst)\n",
    "    for i in range(size):\n",
    "        s = list(lst[i])\n",
    "        itgr = list(map(int,s))\n",
    "        tmp = sum(itgr)\n",
    "        if tmp > max:\n",
    "            max = tmp\n",
    "            idx = i\n",
    "    return lst[idx]\n",
    "print(digit_sum(l))"
   ]
  },
  {
   "cell_type": "code",
   "execution_count": 3,
   "metadata": {},
   "outputs": [
    {
     "name": "stdout",
     "output_type": "stream",
     "text": [
      "3\n",
      "125 15232 97\n",
      "97\n"
     ]
    }
   ],
   "source": [
    "# Solution 1\n",
    "n = int(input())\n",
    "l = list(map(int,input().split()))\n",
    "\n",
    "def digit_sum(x):\n",
    "    sum = 0\n",
    "    while x>0: \n",
    "        sum += x%10\n",
    "        x=x//10\n",
    "    return sum\n",
    "\n",
    "max = 0\n",
    "for x in l:\n",
    "    tot = digit_sum(x)\n",
    "    if tot > max:\n",
    "        max = tot\n",
    "        res = x\n",
    "print(res)"
   ]
  },
  {
   "cell_type": "code",
   "execution_count": null,
   "metadata": {},
   "outputs": [],
   "source": [
    "# Solution 2\n",
    "def digit_sum(x):\n",
    "    sum = 0\n",
    "    for i in str(x): sum += int(i)\n",
    "    return sum"
   ]
  },
  {
   "cell_type": "code",
   "execution_count": 4,
   "metadata": {},
   "outputs": [
    {
     "data": {
      "text/plain": [
       "'97'"
      ]
     },
     "execution_count": 4,
     "metadata": {},
     "output_type": "execute_result"
    }
   ],
   "source": [
    "str(97)"
   ]
  },
  {
   "cell_type": "code",
   "execution_count": null,
   "metadata": {},
   "outputs": [],
   "source": []
  }
 ],
 "metadata": {
  "kernelspec": {
   "display_name": "Python 3",
   "language": "python",
   "name": "python3"
  },
  "language_info": {
   "codemirror_mode": {
    "name": "ipython",
    "version": 3
   },
   "file_extension": ".py",
   "mimetype": "text/x-python",
   "name": "python",
   "nbconvert_exporter": "python",
   "pygments_lexer": "ipython3",
   "version": "3.7.3"
  }
 },
 "nbformat": 4,
 "nbformat_minor": 2
}
